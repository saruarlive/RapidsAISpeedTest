{
 "cells": [
  {
   "cell_type": "markdown",
   "metadata": {},
   "source": [
    "### Rapids AI speed test comparison\n",
    "The RAPIDS data science framework includes a collection of libraries for executing end-to-end data science pipelines completely in the GPU. \n",
    "It is designed to have a familiar look and feel to data scientists working in Python. Here’s a code snippet where we read in a CSV file \n",
    "and output some descriptive statistics.\n",
    "(https://rapids.ai/start.html)\n",
    "\n",
    "This test is partially adapted from the github repo: \n",
    "\n",
    "https://github.com/bhattbhavesh91/cuDF-RAPIDS-demo"
   ]
  },
  {
   "cell_type": "code",
   "execution_count": null,
   "metadata": {},
   "outputs": [],
   "source": []
  },
  {
   "cell_type": "code",
   "execution_count": 42,
   "metadata": {},
   "outputs": [],
   "source": [
    "import os\n",
    "import pandas as pd\n",
    "import numpy as np\n",
    "import time\n",
    "import cudf"
   ]
  },
  {
   "cell_type": "markdown",
   "metadata": {},
   "source": [
    "## The size of input csv file"
   ]
  },
  {
   "cell_type": "code",
   "execution_count": 43,
   "metadata": {},
   "outputs": [
    {
     "name": "stdout",
     "output_type": "stream",
     "text": [
      "Size of file is 624.001733 MB\n"
     ]
    }
   ],
   "source": [
    "print (\"Size of file is {} MB\".format(os.path.getsize('/data-10tb/saruarlive/dataProject/BratsData/5m Sales Records.csv')/(1000*1000)))"
   ]
  },
  {
   "cell_type": "markdown",
   "metadata": {},
   "source": [
    "## Looking into the Reading time by pandas libary"
   ]
  },
  {
   "cell_type": "code",
   "execution_count": 44,
   "metadata": {},
   "outputs": [
    {
     "name": "stdout",
     "output_type": "stream",
     "text": [
      "Time takes to load by Pandas = 5.1055519580841064\n"
     ]
    }
   ],
   "source": [
    "tpd = time.time()\n",
    "df_pd = pd.read_csv('/data-10tb/saruarlive/dataProject/BratsData/5m Sales Records.csv')\n",
    "epd = time.time()\n",
    "pd_time = epd - tpd\n",
    "print(\"Time takes to load by Pandas = {}\".format(pd_time))"
   ]
  },
  {
   "cell_type": "markdown",
   "metadata": {},
   "source": [
    "## Looking into the Reading time by cuDF "
   ]
  },
  {
   "cell_type": "code",
   "execution_count": 45,
   "metadata": {},
   "outputs": [
    {
     "name": "stdout",
     "output_type": "stream",
     "text": [
      "Time takes to load by Pandas = 0.2445385456085205\n"
     ]
    }
   ],
   "source": [
    "tpd = time.time()\n",
    "cudf_pd = cudf.read_csv('/data-10tb/saruarlive/dataProject/BratsData/5m Sales Records.csv')\n",
    "epd = time.time()\n",
    "cupd_time = epd - tpd\n",
    "print(\"Time takes to load by cuDF = {}\".format(cupd_time))"
   ]
  },
  {
   "cell_type": "markdown",
   "metadata": {},
   "source": [
    "## Concatenation time comparision"
   ]
  },
  {
   "cell_type": "code",
   "execution_count": 46,
   "metadata": {},
   "outputs": [
    {
     "name": "stdout",
     "output_type": "stream",
     "text": [
      "Time takes to concatenate by Pandas = 5.351191759109497\n"
     ]
    }
   ],
   "source": [
    "tpd = time.time()\n",
    "df_pd_concat = pd.concat([df_pd for _ in range(10)])\n",
    "epd = time.time()\n",
    "pd_time = epd - tpd\n",
    "print(\"Time takes to concatenate by Pandas = {}\".format(pd_time))"
   ]
  },
  {
   "cell_type": "code",
   "execution_count": 48,
   "metadata": {},
   "outputs": [
    {
     "name": "stdout",
     "output_type": "stream",
     "text": [
      "Time takes to concatenate by Pandas = 0.46720361709594727\n"
     ]
    }
   ],
   "source": [
    "tpd = time.time()\n",
    "cudf_pd_concat = cudf.concat([cudf_pd for _ in range(10)])\n",
    "epd = time.time()\n",
    "cupd_time = epd - tpd\n",
    "print(\"Time takes to concatenate by cuDF = {}\".format(cupd_time))"
   ]
  },
  {
   "cell_type": "markdown",
   "metadata": {},
   "source": [
    "## Mean calculation time comparision"
   ]
  },
  {
   "cell_type": "code",
   "execution_count": 52,
   "metadata": {},
   "outputs": [
    {
     "name": "stdout",
     "output_type": "stream",
     "text": [
      "Time takes to calculate the mean by Pandas = 0.013599634170532227\n"
     ]
    }
   ],
   "source": [
    "tpd = time.time()\n",
    "df_pd_mean = df_pd['Unit Price'].mean()\n",
    "epd = time.time()\n",
    "pd_time = epd - tpd\n",
    "print(\"Time takes to calculate the mean by Pandas = {}\".format(pd_time))"
   ]
  },
  {
   "cell_type": "code",
   "execution_count": 53,
   "metadata": {},
   "outputs": [
    {
     "name": "stdout",
     "output_type": "stream",
     "text": [
      "Time takes to calculate the mean by cuDF = 0.02292943000793457\n"
     ]
    }
   ],
   "source": [
    "tpd = time.time()\n",
    "cudf_pd_mean = cudf_pd['Unit Price'].mean()\n",
    "epd = time.time()\n",
    "pd_time = epd - tpd\n",
    "print(\"Time takes to calculate the mean by cuDF = {}\".format(pd_time))"
   ]
  },
  {
   "cell_type": "code",
   "execution_count": null,
   "metadata": {},
   "outputs": [],
   "source": []
  }
 ],
 "metadata": {
  "kernelspec": {
   "display_name": "Python 3",
   "language": "python",
   "name": "python3"
  },
  "language_info": {
   "codemirror_mode": {
    "name": "ipython",
    "version": 3
   },
   "file_extension": ".py",
   "mimetype": "text/x-python",
   "name": "python",
   "nbconvert_exporter": "python",
   "pygments_lexer": "ipython3",
   "version": "3.7.7"
  }
 },
 "nbformat": 4,
 "nbformat_minor": 4
}
